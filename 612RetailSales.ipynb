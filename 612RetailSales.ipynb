{
  "nbformat": 4,
  "nbformat_minor": 0,
  "metadata": {
    "colab": {
      "provenance": [],
      "authorship_tag": "ABX9TyNb2pk8xYYxAT7UyZfUxsp0",
      "include_colab_link": true
    },
    "kernelspec": {
      "name": "python3",
      "display_name": "Python 3"
    },
    "language_info": {
      "name": "python"
    }
  },
  "cells": [
    {
      "cell_type": "markdown",
      "metadata": {
        "id": "view-in-github",
        "colab_type": "text"
      },
      "source": [
        "<a href=\"https://colab.research.google.com/github/wendydonzse/GDDA612_project1/blob/main/612RetailSales.ipynb\" target=\"_parent\"><img src=\"https://colab.research.google.com/assets/colab-badge.svg\" alt=\"Open In Colab\"/></a>"
      ]
    },
    {
      "cell_type": "code",
      "execution_count": 12,
      "metadata": {
        "id": "p24A2fE8f6c8",
        "colab": {
          "base_uri": "https://localhost:8080/"
        },
        "outputId": "8000cb12-ddfa-4fba-d6ad-e6525cd650a8"
      },
      "outputs": [
        {
          "output_type": "stream",
          "name": "stdout",
          "text": [
            "Drive already mounted at /content/gdrive; to attempt to forcibly remount, call drive.mount(\"/content/gdrive\", force_remount=True).\n"
          ]
        }
      ],
      "source": [
        "from google.colab import drive\n",
        "drive.mount('/content/gdrive')"
      ]
    },
    {
      "cell_type": "code",
      "source": [
        "import os\n",
        "os.chdir('/content/gdrive/MyDrive/ColabNotebooks/612') # Use os.chdir to change directory in Python\n"
      ],
      "metadata": {
        "id": "tFN_MsBwgJbO"
      },
      "execution_count": 13,
      "outputs": []
    },
    {
      "cell_type": "code",
      "source": [
        "ls"
      ],
      "metadata": {
        "colab": {
          "base_uri": "https://localhost:8080/"
        },
        "id": "wZS3FYgajoGB",
        "outputId": "483d21db-bd41-4d6e-9cbe-cae3c9232bd5"
      },
      "execution_count": 14,
      "outputs": [
        {
          "output_type": "stream",
          "name": "stdout",
          "text": [
            " 612_Testing.ipynb                   'MongoDB connection.ipynb'      tidy_vgsales.csv\n",
            " clean_vgsales.csv                    retail_full.csv               'Untitled0 (1).ipynb'\n",
            " GDD612_A2Project2_850001206_1.docx   retail_full_local.csv          vgsales_clean.csv\n",
            " GDD612_A2Project2_850001206.docx     retail_sales_clean.csv         vgsales.csv\n",
            " \u001b[0m\u001b[01;34mGDDA612_BACKUP_20240817045725\u001b[0m/       retailsales_clothing1000.csv\n",
            "'Google drive and colab (1).ipynb'    retail_sales_dataset.csv\n"
          ]
        }
      ]
    },
    {
      "cell_type": "code",
      "source": [
        "pip install pandas numpy\n"
      ],
      "metadata": {
        "colab": {
          "base_uri": "https://localhost:8080/"
        },
        "id": "weSzGwlc3iIq",
        "outputId": "8f43210b-3f3d-4739-8fd2-248ad364284f"
      },
      "execution_count": 22,
      "outputs": [
        {
          "output_type": "stream",
          "name": "stdout",
          "text": [
            "Requirement already satisfied: pandas in /usr/local/lib/python3.10/dist-packages (2.1.4)\n",
            "Requirement already satisfied: numpy in /usr/local/lib/python3.10/dist-packages (1.26.4)\n",
            "Requirement already satisfied: python-dateutil>=2.8.2 in /usr/local/lib/python3.10/dist-packages (from pandas) (2.8.2)\n",
            "Requirement already satisfied: pytz>=2020.1 in /usr/local/lib/python3.10/dist-packages (from pandas) (2024.1)\n",
            "Requirement already satisfied: tzdata>=2022.1 in /usr/local/lib/python3.10/dist-packages (from pandas) (2024.1)\n",
            "Requirement already satisfied: six>=1.5 in /usr/local/lib/python3.10/dist-packages (from python-dateutil>=2.8.2->pandas) (1.16.0)\n"
          ]
        }
      ]
    },
    {
      "cell_type": "code",
      "source": [
        "import pandas as pd\n",
        "import numpy as np\n",
        "from scipy import stats\n",
        "import matplotlib.pyplot as plt\n",
        "import seaborn as sns"
      ],
      "metadata": {
        "id": "I01iFFqNjsG3"
      },
      "execution_count": 23,
      "outputs": []
    },
    {
      "cell_type": "code",
      "source": [
        " df = pd.read_csv('retail_sales_dataset.csv')"
      ],
      "metadata": {
        "id": "lyxSD_gchkuD"
      },
      "execution_count": 24,
      "outputs": []
    },
    {
      "cell_type": "code",
      "source": [
        "\n",
        " print(df.head())"
      ],
      "metadata": {
        "colab": {
          "base_uri": "https://localhost:8080/"
        },
        "id": "bfnE-N1pgV3L",
        "outputId": "d45185db-858e-4a27-f6d3-60a10a179498"
      },
      "execution_count": 25,
      "outputs": [
        {
          "output_type": "stream",
          "name": "stdout",
          "text": [
            "   Transaction ID        Date Customer ID  Gender  Age Product Category  \\\n",
            "0               1  2023-11-24     CUST001    Male   34           Beauty   \n",
            "1               2  2023-02-27     CUST002  Female   26         Clothing   \n",
            "2               3  2023-01-13     CUST003    Male   50      Electronics   \n",
            "3               4  2023-05-21     CUST004    Male   37         Clothing   \n",
            "4               5  2023-05-06     CUST005    Male   30           Beauty   \n",
            "\n",
            "   Quantity  Price per Unit  Total Amount  \n",
            "0         3              50           150  \n",
            "1         2             500          1000  \n",
            "2         1              30            30  \n",
            "3         1             500           500  \n",
            "4         2              50           100  \n"
          ]
        }
      ]
    },
    {
      "cell_type": "code",
      "source": [
        "# Summary statistics\n",
        "print(\"\\nSummary statistics:\")\n",
        "print(df.shape)\n",
        "df.info()\n",
        "df.describe()"
      ],
      "metadata": {
        "colab": {
          "base_uri": "https://localhost:8080/",
          "height": 645
        },
        "id": "h2bTKdaViElv",
        "outputId": "e6c2a031-ce99-4ef7-b1c6-07c658ee963f"
      },
      "execution_count": 26,
      "outputs": [
        {
          "output_type": "stream",
          "name": "stdout",
          "text": [
            "\n",
            "Summary statistics:\n",
            "(1000, 9)\n",
            "<class 'pandas.core.frame.DataFrame'>\n",
            "RangeIndex: 1000 entries, 0 to 999\n",
            "Data columns (total 9 columns):\n",
            " #   Column            Non-Null Count  Dtype \n",
            "---  ------            --------------  ----- \n",
            " 0   Transaction ID    1000 non-null   int64 \n",
            " 1   Date              1000 non-null   object\n",
            " 2   Customer ID       1000 non-null   object\n",
            " 3   Gender            1000 non-null   object\n",
            " 4   Age               1000 non-null   int64 \n",
            " 5   Product Category  1000 non-null   object\n",
            " 6   Quantity          1000 non-null   int64 \n",
            " 7   Price per Unit    1000 non-null   int64 \n",
            " 8   Total Amount      1000 non-null   int64 \n",
            "dtypes: int64(5), object(4)\n",
            "memory usage: 70.4+ KB\n"
          ]
        },
        {
          "output_type": "execute_result",
          "data": {
            "text/plain": [
              "       Transaction ID         Age     Quantity  Price per Unit  Total Amount\n",
              "count     1000.000000  1000.00000  1000.000000     1000.000000   1000.000000\n",
              "mean       500.500000    41.39200     2.514000      179.890000    456.000000\n",
              "std        288.819436    13.68143     1.132734      189.681356    559.997632\n",
              "min          1.000000    18.00000     1.000000       25.000000     25.000000\n",
              "25%        250.750000    29.00000     1.000000       30.000000     60.000000\n",
              "50%        500.500000    42.00000     3.000000       50.000000    135.000000\n",
              "75%        750.250000    53.00000     4.000000      300.000000    900.000000\n",
              "max       1000.000000    64.00000     4.000000      500.000000   2000.000000"
            ],
            "text/html": [
              "\n",
              "  <div id=\"df-e7206bd8-fd95-4fe9-bbb8-6cecbb338666\" class=\"colab-df-container\">\n",
              "    <div>\n",
              "<style scoped>\n",
              "    .dataframe tbody tr th:only-of-type {\n",
              "        vertical-align: middle;\n",
              "    }\n",
              "\n",
              "    .dataframe tbody tr th {\n",
              "        vertical-align: top;\n",
              "    }\n",
              "\n",
              "    .dataframe thead th {\n",
              "        text-align: right;\n",
              "    }\n",
              "</style>\n",
              "<table border=\"1\" class=\"dataframe\">\n",
              "  <thead>\n",
              "    <tr style=\"text-align: right;\">\n",
              "      <th></th>\n",
              "      <th>Transaction ID</th>\n",
              "      <th>Age</th>\n",
              "      <th>Quantity</th>\n",
              "      <th>Price per Unit</th>\n",
              "      <th>Total Amount</th>\n",
              "    </tr>\n",
              "  </thead>\n",
              "  <tbody>\n",
              "    <tr>\n",
              "      <th>count</th>\n",
              "      <td>1000.000000</td>\n",
              "      <td>1000.00000</td>\n",
              "      <td>1000.000000</td>\n",
              "      <td>1000.000000</td>\n",
              "      <td>1000.000000</td>\n",
              "    </tr>\n",
              "    <tr>\n",
              "      <th>mean</th>\n",
              "      <td>500.500000</td>\n",
              "      <td>41.39200</td>\n",
              "      <td>2.514000</td>\n",
              "      <td>179.890000</td>\n",
              "      <td>456.000000</td>\n",
              "    </tr>\n",
              "    <tr>\n",
              "      <th>std</th>\n",
              "      <td>288.819436</td>\n",
              "      <td>13.68143</td>\n",
              "      <td>1.132734</td>\n",
              "      <td>189.681356</td>\n",
              "      <td>559.997632</td>\n",
              "    </tr>\n",
              "    <tr>\n",
              "      <th>min</th>\n",
              "      <td>1.000000</td>\n",
              "      <td>18.00000</td>\n",
              "      <td>1.000000</td>\n",
              "      <td>25.000000</td>\n",
              "      <td>25.000000</td>\n",
              "    </tr>\n",
              "    <tr>\n",
              "      <th>25%</th>\n",
              "      <td>250.750000</td>\n",
              "      <td>29.00000</td>\n",
              "      <td>1.000000</td>\n",
              "      <td>30.000000</td>\n",
              "      <td>60.000000</td>\n",
              "    </tr>\n",
              "    <tr>\n",
              "      <th>50%</th>\n",
              "      <td>500.500000</td>\n",
              "      <td>42.00000</td>\n",
              "      <td>3.000000</td>\n",
              "      <td>50.000000</td>\n",
              "      <td>135.000000</td>\n",
              "    </tr>\n",
              "    <tr>\n",
              "      <th>75%</th>\n",
              "      <td>750.250000</td>\n",
              "      <td>53.00000</td>\n",
              "      <td>4.000000</td>\n",
              "      <td>300.000000</td>\n",
              "      <td>900.000000</td>\n",
              "    </tr>\n",
              "    <tr>\n",
              "      <th>max</th>\n",
              "      <td>1000.000000</td>\n",
              "      <td>64.00000</td>\n",
              "      <td>4.000000</td>\n",
              "      <td>500.000000</td>\n",
              "      <td>2000.000000</td>\n",
              "    </tr>\n",
              "  </tbody>\n",
              "</table>\n",
              "</div>\n",
              "    <div class=\"colab-df-buttons\">\n",
              "\n",
              "  <div class=\"colab-df-container\">\n",
              "    <button class=\"colab-df-convert\" onclick=\"convertToInteractive('df-e7206bd8-fd95-4fe9-bbb8-6cecbb338666')\"\n",
              "            title=\"Convert this dataframe to an interactive table.\"\n",
              "            style=\"display:none;\">\n",
              "\n",
              "  <svg xmlns=\"http://www.w3.org/2000/svg\" height=\"24px\" viewBox=\"0 -960 960 960\">\n",
              "    <path d=\"M120-120v-720h720v720H120Zm60-500h600v-160H180v160Zm220 220h160v-160H400v160Zm0 220h160v-160H400v160ZM180-400h160v-160H180v160Zm440 0h160v-160H620v160ZM180-180h160v-160H180v160Zm440 0h160v-160H620v160Z\"/>\n",
              "  </svg>\n",
              "    </button>\n",
              "\n",
              "  <style>\n",
              "    .colab-df-container {\n",
              "      display:flex;\n",
              "      gap: 12px;\n",
              "    }\n",
              "\n",
              "    .colab-df-convert {\n",
              "      background-color: #E8F0FE;\n",
              "      border: none;\n",
              "      border-radius: 50%;\n",
              "      cursor: pointer;\n",
              "      display: none;\n",
              "      fill: #1967D2;\n",
              "      height: 32px;\n",
              "      padding: 0 0 0 0;\n",
              "      width: 32px;\n",
              "    }\n",
              "\n",
              "    .colab-df-convert:hover {\n",
              "      background-color: #E2EBFA;\n",
              "      box-shadow: 0px 1px 2px rgba(60, 64, 67, 0.3), 0px 1px 3px 1px rgba(60, 64, 67, 0.15);\n",
              "      fill: #174EA6;\n",
              "    }\n",
              "\n",
              "    .colab-df-buttons div {\n",
              "      margin-bottom: 4px;\n",
              "    }\n",
              "\n",
              "    [theme=dark] .colab-df-convert {\n",
              "      background-color: #3B4455;\n",
              "      fill: #D2E3FC;\n",
              "    }\n",
              "\n",
              "    [theme=dark] .colab-df-convert:hover {\n",
              "      background-color: #434B5C;\n",
              "      box-shadow: 0px 1px 3px 1px rgba(0, 0, 0, 0.15);\n",
              "      filter: drop-shadow(0px 1px 2px rgba(0, 0, 0, 0.3));\n",
              "      fill: #FFFFFF;\n",
              "    }\n",
              "  </style>\n",
              "\n",
              "    <script>\n",
              "      const buttonEl =\n",
              "        document.querySelector('#df-e7206bd8-fd95-4fe9-bbb8-6cecbb338666 button.colab-df-convert');\n",
              "      buttonEl.style.display =\n",
              "        google.colab.kernel.accessAllowed ? 'block' : 'none';\n",
              "\n",
              "      async function convertToInteractive(key) {\n",
              "        const element = document.querySelector('#df-e7206bd8-fd95-4fe9-bbb8-6cecbb338666');\n",
              "        const dataTable =\n",
              "          await google.colab.kernel.invokeFunction('convertToInteractive',\n",
              "                                                    [key], {});\n",
              "        if (!dataTable) return;\n",
              "\n",
              "        const docLinkHtml = 'Like what you see? Visit the ' +\n",
              "          '<a target=\"_blank\" href=https://colab.research.google.com/notebooks/data_table.ipynb>data table notebook</a>'\n",
              "          + ' to learn more about interactive tables.';\n",
              "        element.innerHTML = '';\n",
              "        dataTable['output_type'] = 'display_data';\n",
              "        await google.colab.output.renderOutput(dataTable, element);\n",
              "        const docLink = document.createElement('div');\n",
              "        docLink.innerHTML = docLinkHtml;\n",
              "        element.appendChild(docLink);\n",
              "      }\n",
              "    </script>\n",
              "  </div>\n",
              "\n",
              "\n",
              "<div id=\"df-f12039a6-6185-42b7-aaa0-cf30d4cbb69f\">\n",
              "  <button class=\"colab-df-quickchart\" onclick=\"quickchart('df-f12039a6-6185-42b7-aaa0-cf30d4cbb69f')\"\n",
              "            title=\"Suggest charts\"\n",
              "            style=\"display:none;\">\n",
              "\n",
              "<svg xmlns=\"http://www.w3.org/2000/svg\" height=\"24px\"viewBox=\"0 0 24 24\"\n",
              "     width=\"24px\">\n",
              "    <g>\n",
              "        <path d=\"M19 3H5c-1.1 0-2 .9-2 2v14c0 1.1.9 2 2 2h14c1.1 0 2-.9 2-2V5c0-1.1-.9-2-2-2zM9 17H7v-7h2v7zm4 0h-2V7h2v10zm4 0h-2v-4h2v4z\"/>\n",
              "    </g>\n",
              "</svg>\n",
              "  </button>\n",
              "\n",
              "<style>\n",
              "  .colab-df-quickchart {\n",
              "      --bg-color: #E8F0FE;\n",
              "      --fill-color: #1967D2;\n",
              "      --hover-bg-color: #E2EBFA;\n",
              "      --hover-fill-color: #174EA6;\n",
              "      --disabled-fill-color: #AAA;\n",
              "      --disabled-bg-color: #DDD;\n",
              "  }\n",
              "\n",
              "  [theme=dark] .colab-df-quickchart {\n",
              "      --bg-color: #3B4455;\n",
              "      --fill-color: #D2E3FC;\n",
              "      --hover-bg-color: #434B5C;\n",
              "      --hover-fill-color: #FFFFFF;\n",
              "      --disabled-bg-color: #3B4455;\n",
              "      --disabled-fill-color: #666;\n",
              "  }\n",
              "\n",
              "  .colab-df-quickchart {\n",
              "    background-color: var(--bg-color);\n",
              "    border: none;\n",
              "    border-radius: 50%;\n",
              "    cursor: pointer;\n",
              "    display: none;\n",
              "    fill: var(--fill-color);\n",
              "    height: 32px;\n",
              "    padding: 0;\n",
              "    width: 32px;\n",
              "  }\n",
              "\n",
              "  .colab-df-quickchart:hover {\n",
              "    background-color: var(--hover-bg-color);\n",
              "    box-shadow: 0 1px 2px rgba(60, 64, 67, 0.3), 0 1px 3px 1px rgba(60, 64, 67, 0.15);\n",
              "    fill: var(--button-hover-fill-color);\n",
              "  }\n",
              "\n",
              "  .colab-df-quickchart-complete:disabled,\n",
              "  .colab-df-quickchart-complete:disabled:hover {\n",
              "    background-color: var(--disabled-bg-color);\n",
              "    fill: var(--disabled-fill-color);\n",
              "    box-shadow: none;\n",
              "  }\n",
              "\n",
              "  .colab-df-spinner {\n",
              "    border: 2px solid var(--fill-color);\n",
              "    border-color: transparent;\n",
              "    border-bottom-color: var(--fill-color);\n",
              "    animation:\n",
              "      spin 1s steps(1) infinite;\n",
              "  }\n",
              "\n",
              "  @keyframes spin {\n",
              "    0% {\n",
              "      border-color: transparent;\n",
              "      border-bottom-color: var(--fill-color);\n",
              "      border-left-color: var(--fill-color);\n",
              "    }\n",
              "    20% {\n",
              "      border-color: transparent;\n",
              "      border-left-color: var(--fill-color);\n",
              "      border-top-color: var(--fill-color);\n",
              "    }\n",
              "    30% {\n",
              "      border-color: transparent;\n",
              "      border-left-color: var(--fill-color);\n",
              "      border-top-color: var(--fill-color);\n",
              "      border-right-color: var(--fill-color);\n",
              "    }\n",
              "    40% {\n",
              "      border-color: transparent;\n",
              "      border-right-color: var(--fill-color);\n",
              "      border-top-color: var(--fill-color);\n",
              "    }\n",
              "    60% {\n",
              "      border-color: transparent;\n",
              "      border-right-color: var(--fill-color);\n",
              "    }\n",
              "    80% {\n",
              "      border-color: transparent;\n",
              "      border-right-color: var(--fill-color);\n",
              "      border-bottom-color: var(--fill-color);\n",
              "    }\n",
              "    90% {\n",
              "      border-color: transparent;\n",
              "      border-bottom-color: var(--fill-color);\n",
              "    }\n",
              "  }\n",
              "</style>\n",
              "\n",
              "  <script>\n",
              "    async function quickchart(key) {\n",
              "      const quickchartButtonEl =\n",
              "        document.querySelector('#' + key + ' button');\n",
              "      quickchartButtonEl.disabled = true;  // To prevent multiple clicks.\n",
              "      quickchartButtonEl.classList.add('colab-df-spinner');\n",
              "      try {\n",
              "        const charts = await google.colab.kernel.invokeFunction(\n",
              "            'suggestCharts', [key], {});\n",
              "      } catch (error) {\n",
              "        console.error('Error during call to suggestCharts:', error);\n",
              "      }\n",
              "      quickchartButtonEl.classList.remove('colab-df-spinner');\n",
              "      quickchartButtonEl.classList.add('colab-df-quickchart-complete');\n",
              "    }\n",
              "    (() => {\n",
              "      let quickchartButtonEl =\n",
              "        document.querySelector('#df-f12039a6-6185-42b7-aaa0-cf30d4cbb69f button');\n",
              "      quickchartButtonEl.style.display =\n",
              "        google.colab.kernel.accessAllowed ? 'block' : 'none';\n",
              "    })();\n",
              "  </script>\n",
              "</div>\n",
              "\n",
              "    </div>\n",
              "  </div>\n"
            ],
            "application/vnd.google.colaboratory.intrinsic+json": {
              "type": "dataframe",
              "summary": "{\n  \"name\": \"df\",\n  \"rows\": 8,\n  \"fields\": [\n    {\n      \"column\": \"Transaction ID\",\n      \"properties\": {\n        \"dtype\": \"number\",\n        \"std\": 360.1000917722167,\n        \"min\": 1.0,\n        \"max\": 1000.0,\n        \"num_unique_values\": 6,\n        \"samples\": [\n          1000.0,\n          500.5,\n          750.25\n        ],\n        \"semantic_type\": \"\",\n        \"description\": \"\"\n      }\n    },\n    {\n      \"column\": \"Age\",\n      \"properties\": {\n        \"dtype\": \"number\",\n        \"std\": 340.78610904107535,\n        \"min\": 13.681429659122527,\n        \"max\": 1000.0,\n        \"num_unique_values\": 8,\n        \"samples\": [\n          41.392,\n          42.0,\n          1000.0\n        ],\n        \"semantic_type\": \"\",\n        \"description\": \"\"\n      }\n    },\n    {\n      \"column\": \"Quantity\",\n      \"properties\": {\n        \"dtype\": \"number\",\n        \"std\": 352.71483432640656,\n        \"min\": 1.0,\n        \"max\": 1000.0,\n        \"num_unique_values\": 6,\n        \"samples\": [\n          1000.0,\n          2.514,\n          4.0\n        ],\n        \"semantic_type\": \"\",\n        \"description\": \"\"\n      }\n    },\n    {\n      \"column\": \"Price per Unit\",\n      \"properties\": {\n        \"dtype\": \"number\",\n        \"std\": 330.7254087976672,\n        \"min\": 25.0,\n        \"max\": 1000.0,\n        \"num_unique_values\": 8,\n        \"samples\": [\n          179.89,\n          50.0,\n          1000.0\n        ],\n        \"semantic_type\": \"\",\n        \"description\": \"\"\n      }\n    },\n    {\n      \"column\": \"Total Amount\",\n      \"properties\": {\n        \"dtype\": \"number\",\n        \"std\": 660.8084213867855,\n        \"min\": 25.0,\n        \"max\": 2000.0,\n        \"num_unique_values\": 8,\n        \"samples\": [\n          456.0,\n          135.0,\n          1000.0\n        ],\n        \"semantic_type\": \"\",\n        \"description\": \"\"\n      }\n    }\n  ]\n}"
            }
          },
          "metadata": {},
          "execution_count": 26
        }
      ]
    },
    {
      "cell_type": "code",
      "source": [
        "# Handle missing values:\n",
        "# Check for missing values\n",
        "missing_values = df.isnull().sum()\n",
        "print(\"Missing values per column:\")\n",
        "print(missing_values)"
      ],
      "metadata": {
        "colab": {
          "base_uri": "https://localhost:8080/"
        },
        "id": "SRhvTL6jltQk",
        "outputId": "66ea91f0-a91f-46e7-811b-125f5a730fb9"
      },
      "execution_count": 27,
      "outputs": [
        {
          "output_type": "stream",
          "name": "stdout",
          "text": [
            "Missing values per column:\n",
            "Transaction ID      0\n",
            "Date                0\n",
            "Customer ID         0\n",
            "Gender              0\n",
            "Age                 0\n",
            "Product Category    0\n",
            "Quantity            0\n",
            "Price per Unit      0\n",
            "Total Amount        0\n",
            "dtype: int64\n"
          ]
        }
      ]
    },
    {
      "cell_type": "code",
      "source": [
        "# Fillna if it's null values\n",
        "df.fillna(0, inplace=True)\n",
        "# Check for any remaining missing values\n",
        "print(\"Remaining missing values after imputation:\")\n",
        "print(df.isnull().sum())\n"
      ],
      "metadata": {
        "id": "MNwZlf9bncyb",
        "colab": {
          "base_uri": "https://localhost:8080/"
        },
        "outputId": "4322bf06-88f7-4aed-9bb6-709a958f3c8b"
      },
      "execution_count": 28,
      "outputs": [
        {
          "output_type": "stream",
          "name": "stdout",
          "text": [
            "Remaining missing values after imputation:\n",
            "Transaction ID      0\n",
            "Date                0\n",
            "Customer ID         0\n",
            "Gender              0\n",
            "Age                 0\n",
            "Product Category    0\n",
            "Quantity            0\n",
            "Price per Unit      0\n",
            "Total Amount        0\n",
            "dtype: int64\n"
          ]
        }
      ]
    },
    {
      "cell_type": "code",
      "source": [
        "# To check data types of all columns in the DataFrame, use .dtypes\n",
        "print(df.dtypes)"
      ],
      "metadata": {
        "colab": {
          "base_uri": "https://localhost:8080/"
        },
        "id": "WTbdQTlwwrSx",
        "outputId": "3106f52e-7959-47f1-8045-c2c0be0214f6"
      },
      "execution_count": 29,
      "outputs": [
        {
          "output_type": "stream",
          "name": "stdout",
          "text": [
            "Transaction ID       int64\n",
            "Date                object\n",
            "Customer ID         object\n",
            "Gender              object\n",
            "Age                  int64\n",
            "Product Category    object\n",
            "Quantity             int64\n",
            "Price per Unit       int64\n",
            "Total Amount         int64\n",
            "dtype: object\n"
          ]
        }
      ]
    },
    {
      "cell_type": "code",
      "source": [
        "#Normalize Data Types\n",
        "df['Date'] = pd.to_datetime(df['Date'])\n",
        "df['Quantity'] = df['Quantity'].astype(int)\n",
        "df['Price per Unit'] = df['Price per Unit'].astype(float)\n",
        "df['Total Amount'] = df['Total Amount'].astype(float)"
      ],
      "metadata": {
        "id": "Tyxlj8bf3zjS"
      },
      "execution_count": 30,
      "outputs": []
    },
    {
      "cell_type": "code",
      "source": [
        "# Check for duplicate values\n",
        "duplicate_values = df.drop_duplicates(inplace=True)\n",
        "print(\"Duplicate values per column:\")\n",
        "print(duplicate_values)"
      ],
      "metadata": {
        "colab": {
          "base_uri": "https://localhost:8080/"
        },
        "id": "9Sn9SxyUB-5K",
        "outputId": "638de495-a205-4096-b14a-9e53d42e9630"
      },
      "execution_count": 31,
      "outputs": [
        {
          "output_type": "stream",
          "name": "stdout",
          "text": [
            "Duplicate values per column:\n",
            "None\n"
          ]
        }
      ]
    },
    {
      "cell_type": "code",
      "source": [
        "# Select only numeric columns for imputation\n",
        "numeric_columns = df.select_dtypes(include=['number'])\n",
        "# Define a threshold for outlier detection (e.g., z-score > 3)\n",
        "z_threshold = 3\n",
        "\n",
        "# Calculate z-scores for each numerical column\n",
        "z_scores = stats.zscore(df.select_dtypes(include=['number']))\n",
        "\n",
        "# Identify outliers by z-score\n",
        "outliers = (abs(z_scores) > z_threshold).any(axis=1)\n",
        "\n",
        "# Remove outliers from the DataFrame\n",
        "data_no_outliers = df[~outliers]\n",
        "\n",
        "# Check the shape of the DataFrame after removing outliers\n",
        "print(\"Shape after removing outliers:\", data_no_outliers.shape)\n",
        "\n",
        "df = data_no_outliers.copy()\n",
        "df.shape"
      ],
      "metadata": {
        "colab": {
          "base_uri": "https://localhost:8080/"
        },
        "id": "sB0SH1YvCLjK",
        "outputId": "f4ce66f4-f223-48af-cad7-d190e7a09987"
      },
      "execution_count": 32,
      "outputs": [
        {
          "output_type": "stream",
          "name": "stdout",
          "text": [
            "Shape after removing outliers: (1000, 9)\n"
          ]
        },
        {
          "output_type": "execute_result",
          "data": {
            "text/plain": [
              "(1000, 9)"
            ]
          },
          "metadata": {},
          "execution_count": 32
        }
      ]
    },
    {
      "cell_type": "code",
      "source": [
        "df.head()"
      ],
      "metadata": {
        "colab": {
          "base_uri": "https://localhost:8080/",
          "height": 310
        },
        "id": "4jF6LQolTra8",
        "outputId": "a60e1803-5a6e-42b9-be24-68b8ef6385e5"
      },
      "execution_count": 33,
      "outputs": [
        {
          "output_type": "execute_result",
          "data": {
            "text/plain": [
              "   Transaction ID       Date Customer ID  Gender  Age Product Category  \\\n",
              "0               1 2023-11-24     CUST001    Male   34           Beauty   \n",
              "1               2 2023-02-27     CUST002  Female   26         Clothing   \n",
              "2               3 2023-01-13     CUST003    Male   50      Electronics   \n",
              "3               4 2023-05-21     CUST004    Male   37         Clothing   \n",
              "4               5 2023-05-06     CUST005    Male   30           Beauty   \n",
              "\n",
              "   Quantity  Price per Unit  Total Amount  \n",
              "0         3            50.0         150.0  \n",
              "1         2           500.0        1000.0  \n",
              "2         1            30.0          30.0  \n",
              "3         1           500.0         500.0  \n",
              "4         2            50.0         100.0  "
            ],
            "text/html": [
              "\n",
              "  <div id=\"df-29a125db-2812-49d0-ad6e-aeebc13bae6b\" class=\"colab-df-container\">\n",
              "    <div>\n",
              "<style scoped>\n",
              "    .dataframe tbody tr th:only-of-type {\n",
              "        vertical-align: middle;\n",
              "    }\n",
              "\n",
              "    .dataframe tbody tr th {\n",
              "        vertical-align: top;\n",
              "    }\n",
              "\n",
              "    .dataframe thead th {\n",
              "        text-align: right;\n",
              "    }\n",
              "</style>\n",
              "<table border=\"1\" class=\"dataframe\">\n",
              "  <thead>\n",
              "    <tr style=\"text-align: right;\">\n",
              "      <th></th>\n",
              "      <th>Transaction ID</th>\n",
              "      <th>Date</th>\n",
              "      <th>Customer ID</th>\n",
              "      <th>Gender</th>\n",
              "      <th>Age</th>\n",
              "      <th>Product Category</th>\n",
              "      <th>Quantity</th>\n",
              "      <th>Price per Unit</th>\n",
              "      <th>Total Amount</th>\n",
              "    </tr>\n",
              "  </thead>\n",
              "  <tbody>\n",
              "    <tr>\n",
              "      <th>0</th>\n",
              "      <td>1</td>\n",
              "      <td>2023-11-24</td>\n",
              "      <td>CUST001</td>\n",
              "      <td>Male</td>\n",
              "      <td>34</td>\n",
              "      <td>Beauty</td>\n",
              "      <td>3</td>\n",
              "      <td>50.0</td>\n",
              "      <td>150.0</td>\n",
              "    </tr>\n",
              "    <tr>\n",
              "      <th>1</th>\n",
              "      <td>2</td>\n",
              "      <td>2023-02-27</td>\n",
              "      <td>CUST002</td>\n",
              "      <td>Female</td>\n",
              "      <td>26</td>\n",
              "      <td>Clothing</td>\n",
              "      <td>2</td>\n",
              "      <td>500.0</td>\n",
              "      <td>1000.0</td>\n",
              "    </tr>\n",
              "    <tr>\n",
              "      <th>2</th>\n",
              "      <td>3</td>\n",
              "      <td>2023-01-13</td>\n",
              "      <td>CUST003</td>\n",
              "      <td>Male</td>\n",
              "      <td>50</td>\n",
              "      <td>Electronics</td>\n",
              "      <td>1</td>\n",
              "      <td>30.0</td>\n",
              "      <td>30.0</td>\n",
              "    </tr>\n",
              "    <tr>\n",
              "      <th>3</th>\n",
              "      <td>4</td>\n",
              "      <td>2023-05-21</td>\n",
              "      <td>CUST004</td>\n",
              "      <td>Male</td>\n",
              "      <td>37</td>\n",
              "      <td>Clothing</td>\n",
              "      <td>1</td>\n",
              "      <td>500.0</td>\n",
              "      <td>500.0</td>\n",
              "    </tr>\n",
              "    <tr>\n",
              "      <th>4</th>\n",
              "      <td>5</td>\n",
              "      <td>2023-05-06</td>\n",
              "      <td>CUST005</td>\n",
              "      <td>Male</td>\n",
              "      <td>30</td>\n",
              "      <td>Beauty</td>\n",
              "      <td>2</td>\n",
              "      <td>50.0</td>\n",
              "      <td>100.0</td>\n",
              "    </tr>\n",
              "  </tbody>\n",
              "</table>\n",
              "</div>\n",
              "    <div class=\"colab-df-buttons\">\n",
              "\n",
              "  <div class=\"colab-df-container\">\n",
              "    <button class=\"colab-df-convert\" onclick=\"convertToInteractive('df-29a125db-2812-49d0-ad6e-aeebc13bae6b')\"\n",
              "            title=\"Convert this dataframe to an interactive table.\"\n",
              "            style=\"display:none;\">\n",
              "\n",
              "  <svg xmlns=\"http://www.w3.org/2000/svg\" height=\"24px\" viewBox=\"0 -960 960 960\">\n",
              "    <path d=\"M120-120v-720h720v720H120Zm60-500h600v-160H180v160Zm220 220h160v-160H400v160Zm0 220h160v-160H400v160ZM180-400h160v-160H180v160Zm440 0h160v-160H620v160ZM180-180h160v-160H180v160Zm440 0h160v-160H620v160Z\"/>\n",
              "  </svg>\n",
              "    </button>\n",
              "\n",
              "  <style>\n",
              "    .colab-df-container {\n",
              "      display:flex;\n",
              "      gap: 12px;\n",
              "    }\n",
              "\n",
              "    .colab-df-convert {\n",
              "      background-color: #E8F0FE;\n",
              "      border: none;\n",
              "      border-radius: 50%;\n",
              "      cursor: pointer;\n",
              "      display: none;\n",
              "      fill: #1967D2;\n",
              "      height: 32px;\n",
              "      padding: 0 0 0 0;\n",
              "      width: 32px;\n",
              "    }\n",
              "\n",
              "    .colab-df-convert:hover {\n",
              "      background-color: #E2EBFA;\n",
              "      box-shadow: 0px 1px 2px rgba(60, 64, 67, 0.3), 0px 1px 3px 1px rgba(60, 64, 67, 0.15);\n",
              "      fill: #174EA6;\n",
              "    }\n",
              "\n",
              "    .colab-df-buttons div {\n",
              "      margin-bottom: 4px;\n",
              "    }\n",
              "\n",
              "    [theme=dark] .colab-df-convert {\n",
              "      background-color: #3B4455;\n",
              "      fill: #D2E3FC;\n",
              "    }\n",
              "\n",
              "    [theme=dark] .colab-df-convert:hover {\n",
              "      background-color: #434B5C;\n",
              "      box-shadow: 0px 1px 3px 1px rgba(0, 0, 0, 0.15);\n",
              "      filter: drop-shadow(0px 1px 2px rgba(0, 0, 0, 0.3));\n",
              "      fill: #FFFFFF;\n",
              "    }\n",
              "  </style>\n",
              "\n",
              "    <script>\n",
              "      const buttonEl =\n",
              "        document.querySelector('#df-29a125db-2812-49d0-ad6e-aeebc13bae6b button.colab-df-convert');\n",
              "      buttonEl.style.display =\n",
              "        google.colab.kernel.accessAllowed ? 'block' : 'none';\n",
              "\n",
              "      async function convertToInteractive(key) {\n",
              "        const element = document.querySelector('#df-29a125db-2812-49d0-ad6e-aeebc13bae6b');\n",
              "        const dataTable =\n",
              "          await google.colab.kernel.invokeFunction('convertToInteractive',\n",
              "                                                    [key], {});\n",
              "        if (!dataTable) return;\n",
              "\n",
              "        const docLinkHtml = 'Like what you see? Visit the ' +\n",
              "          '<a target=\"_blank\" href=https://colab.research.google.com/notebooks/data_table.ipynb>data table notebook</a>'\n",
              "          + ' to learn more about interactive tables.';\n",
              "        element.innerHTML = '';\n",
              "        dataTable['output_type'] = 'display_data';\n",
              "        await google.colab.output.renderOutput(dataTable, element);\n",
              "        const docLink = document.createElement('div');\n",
              "        docLink.innerHTML = docLinkHtml;\n",
              "        element.appendChild(docLink);\n",
              "      }\n",
              "    </script>\n",
              "  </div>\n",
              "\n",
              "\n",
              "<div id=\"df-d90688d9-5124-41a3-811e-d821dd52b905\">\n",
              "  <button class=\"colab-df-quickchart\" onclick=\"quickchart('df-d90688d9-5124-41a3-811e-d821dd52b905')\"\n",
              "            title=\"Suggest charts\"\n",
              "            style=\"display:none;\">\n",
              "\n",
              "<svg xmlns=\"http://www.w3.org/2000/svg\" height=\"24px\"viewBox=\"0 0 24 24\"\n",
              "     width=\"24px\">\n",
              "    <g>\n",
              "        <path d=\"M19 3H5c-1.1 0-2 .9-2 2v14c0 1.1.9 2 2 2h14c1.1 0 2-.9 2-2V5c0-1.1-.9-2-2-2zM9 17H7v-7h2v7zm4 0h-2V7h2v10zm4 0h-2v-4h2v4z\"/>\n",
              "    </g>\n",
              "</svg>\n",
              "  </button>\n",
              "\n",
              "<style>\n",
              "  .colab-df-quickchart {\n",
              "      --bg-color: #E8F0FE;\n",
              "      --fill-color: #1967D2;\n",
              "      --hover-bg-color: #E2EBFA;\n",
              "      --hover-fill-color: #174EA6;\n",
              "      --disabled-fill-color: #AAA;\n",
              "      --disabled-bg-color: #DDD;\n",
              "  }\n",
              "\n",
              "  [theme=dark] .colab-df-quickchart {\n",
              "      --bg-color: #3B4455;\n",
              "      --fill-color: #D2E3FC;\n",
              "      --hover-bg-color: #434B5C;\n",
              "      --hover-fill-color: #FFFFFF;\n",
              "      --disabled-bg-color: #3B4455;\n",
              "      --disabled-fill-color: #666;\n",
              "  }\n",
              "\n",
              "  .colab-df-quickchart {\n",
              "    background-color: var(--bg-color);\n",
              "    border: none;\n",
              "    border-radius: 50%;\n",
              "    cursor: pointer;\n",
              "    display: none;\n",
              "    fill: var(--fill-color);\n",
              "    height: 32px;\n",
              "    padding: 0;\n",
              "    width: 32px;\n",
              "  }\n",
              "\n",
              "  .colab-df-quickchart:hover {\n",
              "    background-color: var(--hover-bg-color);\n",
              "    box-shadow: 0 1px 2px rgba(60, 64, 67, 0.3), 0 1px 3px 1px rgba(60, 64, 67, 0.15);\n",
              "    fill: var(--button-hover-fill-color);\n",
              "  }\n",
              "\n",
              "  .colab-df-quickchart-complete:disabled,\n",
              "  .colab-df-quickchart-complete:disabled:hover {\n",
              "    background-color: var(--disabled-bg-color);\n",
              "    fill: var(--disabled-fill-color);\n",
              "    box-shadow: none;\n",
              "  }\n",
              "\n",
              "  .colab-df-spinner {\n",
              "    border: 2px solid var(--fill-color);\n",
              "    border-color: transparent;\n",
              "    border-bottom-color: var(--fill-color);\n",
              "    animation:\n",
              "      spin 1s steps(1) infinite;\n",
              "  }\n",
              "\n",
              "  @keyframes spin {\n",
              "    0% {\n",
              "      border-color: transparent;\n",
              "      border-bottom-color: var(--fill-color);\n",
              "      border-left-color: var(--fill-color);\n",
              "    }\n",
              "    20% {\n",
              "      border-color: transparent;\n",
              "      border-left-color: var(--fill-color);\n",
              "      border-top-color: var(--fill-color);\n",
              "    }\n",
              "    30% {\n",
              "      border-color: transparent;\n",
              "      border-left-color: var(--fill-color);\n",
              "      border-top-color: var(--fill-color);\n",
              "      border-right-color: var(--fill-color);\n",
              "    }\n",
              "    40% {\n",
              "      border-color: transparent;\n",
              "      border-right-color: var(--fill-color);\n",
              "      border-top-color: var(--fill-color);\n",
              "    }\n",
              "    60% {\n",
              "      border-color: transparent;\n",
              "      border-right-color: var(--fill-color);\n",
              "    }\n",
              "    80% {\n",
              "      border-color: transparent;\n",
              "      border-right-color: var(--fill-color);\n",
              "      border-bottom-color: var(--fill-color);\n",
              "    }\n",
              "    90% {\n",
              "      border-color: transparent;\n",
              "      border-bottom-color: var(--fill-color);\n",
              "    }\n",
              "  }\n",
              "</style>\n",
              "\n",
              "  <script>\n",
              "    async function quickchart(key) {\n",
              "      const quickchartButtonEl =\n",
              "        document.querySelector('#' + key + ' button');\n",
              "      quickchartButtonEl.disabled = true;  // To prevent multiple clicks.\n",
              "      quickchartButtonEl.classList.add('colab-df-spinner');\n",
              "      try {\n",
              "        const charts = await google.colab.kernel.invokeFunction(\n",
              "            'suggestCharts', [key], {});\n",
              "      } catch (error) {\n",
              "        console.error('Error during call to suggestCharts:', error);\n",
              "      }\n",
              "      quickchartButtonEl.classList.remove('colab-df-spinner');\n",
              "      quickchartButtonEl.classList.add('colab-df-quickchart-complete');\n",
              "    }\n",
              "    (() => {\n",
              "      let quickchartButtonEl =\n",
              "        document.querySelector('#df-d90688d9-5124-41a3-811e-d821dd52b905 button');\n",
              "      quickchartButtonEl.style.display =\n",
              "        google.colab.kernel.accessAllowed ? 'block' : 'none';\n",
              "    })();\n",
              "  </script>\n",
              "</div>\n",
              "\n",
              "    </div>\n",
              "  </div>\n"
            ],
            "application/vnd.google.colaboratory.intrinsic+json": {
              "type": "dataframe",
              "variable_name": "df",
              "summary": "{\n  \"name\": \"df\",\n  \"rows\": 1000,\n  \"fields\": [\n    {\n      \"column\": \"Transaction ID\",\n      \"properties\": {\n        \"dtype\": \"number\",\n        \"std\": 288,\n        \"min\": 1,\n        \"max\": 1000,\n        \"num_unique_values\": 1000,\n        \"samples\": [\n          522,\n          738,\n          741\n        ],\n        \"semantic_type\": \"\",\n        \"description\": \"\"\n      }\n    },\n    {\n      \"column\": \"Date\",\n      \"properties\": {\n        \"dtype\": \"date\",\n        \"min\": \"2023-01-01 00:00:00\",\n        \"max\": \"2024-01-01 00:00:00\",\n        \"num_unique_values\": 345,\n        \"samples\": [\n          \"2023-04-04 00:00:00\",\n          \"2023-04-13 00:00:00\",\n          \"2023-04-15 00:00:00\"\n        ],\n        \"semantic_type\": \"\",\n        \"description\": \"\"\n      }\n    },\n    {\n      \"column\": \"Customer ID\",\n      \"properties\": {\n        \"dtype\": \"string\",\n        \"num_unique_values\": 1000,\n        \"samples\": [\n          \"CUST522\",\n          \"CUST738\",\n          \"CUST741\"\n        ],\n        \"semantic_type\": \"\",\n        \"description\": \"\"\n      }\n    },\n    {\n      \"column\": \"Gender\",\n      \"properties\": {\n        \"dtype\": \"category\",\n        \"num_unique_values\": 2,\n        \"samples\": [\n          \"Female\",\n          \"Male\"\n        ],\n        \"semantic_type\": \"\",\n        \"description\": \"\"\n      }\n    },\n    {\n      \"column\": \"Age\",\n      \"properties\": {\n        \"dtype\": \"number\",\n        \"std\": 13,\n        \"min\": 18,\n        \"max\": 64,\n        \"num_unique_values\": 47,\n        \"samples\": [\n          48,\n          61\n        ],\n        \"semantic_type\": \"\",\n        \"description\": \"\"\n      }\n    },\n    {\n      \"column\": \"Product Category\",\n      \"properties\": {\n        \"dtype\": \"category\",\n        \"num_unique_values\": 3,\n        \"samples\": [\n          \"Beauty\",\n          \"Clothing\"\n        ],\n        \"semantic_type\": \"\",\n        \"description\": \"\"\n      }\n    },\n    {\n      \"column\": \"Quantity\",\n      \"properties\": {\n        \"dtype\": \"number\",\n        \"std\": 1,\n        \"min\": 1,\n        \"max\": 4,\n        \"num_unique_values\": 4,\n        \"samples\": [\n          2,\n          4\n        ],\n        \"semantic_type\": \"\",\n        \"description\": \"\"\n      }\n    },\n    {\n      \"column\": \"Price per Unit\",\n      \"properties\": {\n        \"dtype\": \"number\",\n        \"std\": 189.68135627129232,\n        \"min\": 25.0,\n        \"max\": 500.0,\n        \"num_unique_values\": 5,\n        \"samples\": [\n          500.0,\n          300.0\n        ],\n        \"semantic_type\": \"\",\n        \"description\": \"\"\n      }\n    },\n    {\n      \"column\": \"Total Amount\",\n      \"properties\": {\n        \"dtype\": \"number\",\n        \"std\": 559.997631555123,\n        \"min\": 25.0,\n        \"max\": 2000.0,\n        \"num_unique_values\": 18,\n        \"samples\": [\n          150.0,\n          1000.0\n        ],\n        \"semantic_type\": \"\",\n        \"description\": \"\"\n      }\n    }\n  ]\n}"
            }
          },
          "metadata": {},
          "execution_count": 33
        }
      ]
    },
    {
      "cell_type": "code",
      "source": [
        "#save the dataset into clean dataset retail_full\n",
        "df.to_csv('retail_full.csv', index=False)"
      ],
      "metadata": {
        "id": "crB33-tLUGFE"
      },
      "execution_count": 34,
      "outputs": []
    },
    {
      "cell_type": "code",
      "source": [
        "#Reshape the Data\n",
        "df_new = df.pivot_table(index=['Transaction ID', 'Customer ID'],\n",
        "                            columns='Product Category',\n",
        "                            values='Total Amount',\n",
        "                            fill_value=0).reset_index()"
      ],
      "metadata": {
        "id": "2pdxhPXU2hbz"
      },
      "execution_count": null,
      "outputs": []
    },
    {
      "cell_type": "code",
      "source": [
        "#Feature Enginering - creating new columns based on existing data - Total Number of Items\n",
        "df['Total Items'] = df.groupby('Customer ID')['Quantity'].transform('sum')"
      ],
      "metadata": {
        "id": "oD17t4_-4ZiC"
      },
      "execution_count": null,
      "outputs": []
    },
    {
      "cell_type": "code",
      "source": [
        "print(df_new.head())"
      ],
      "metadata": {
        "colab": {
          "base_uri": "https://localhost:8080/"
        },
        "id": "ZratQIRNxF3F",
        "outputId": "3d928077-6d84-4add-bbc2-b0aa9ffacf86"
      },
      "execution_count": null,
      "outputs": [
        {
          "output_type": "stream",
          "name": "stdout",
          "text": [
            "Product Category  Transaction ID Customer ID  Beauty  Clothing  Electronics\n",
            "0                              1     CUST001   150.0       0.0          0.0\n",
            "1                              2     CUST002     0.0    1000.0          0.0\n",
            "2                              3     CUST003     0.0       0.0         30.0\n",
            "3                              4     CUST004     0.0     500.0          0.0\n",
            "4                              5     CUST005   100.0       0.0          0.0\n"
          ]
        }
      ]
    },
    {
      "cell_type": "code",
      "source": [
        "#save the dataset into newone\n",
        "df_new.to_csv('retail_sales_clean.csv', index=False)"
      ],
      "metadata": {
        "id": "OvHt2jLjwPAT"
      },
      "execution_count": null,
      "outputs": []
    },
    {
      "cell_type": "code",
      "source": [
        "data=pd.read_csv('retail_sales_clean.csv')\n",
        "print(data.head(15))"
      ],
      "metadata": {
        "colab": {
          "base_uri": "https://localhost:8080/"
        },
        "id": "XZEPMq2MBTXa",
        "outputId": "358fb939-e437-4a2d-d3fc-e7b760293797"
      },
      "execution_count": null,
      "outputs": [
        {
          "output_type": "stream",
          "name": "stdout",
          "text": [
            "    Transaction ID Customer ID  Beauty  Clothing  Electronics\n",
            "0                1     CUST001   150.0       0.0          0.0\n",
            "1                2     CUST002     0.0    1000.0          0.0\n",
            "2                3     CUST003     0.0       0.0         30.0\n",
            "3                4     CUST004     0.0     500.0          0.0\n",
            "4                5     CUST005   100.0       0.0          0.0\n",
            "5                6     CUST006    30.0       0.0          0.0\n",
            "6                7     CUST007     0.0      50.0          0.0\n",
            "7                8     CUST008     0.0       0.0        100.0\n",
            "8                9     CUST009     0.0       0.0        600.0\n",
            "9               10     CUST010     0.0     200.0          0.0\n",
            "10              11     CUST011     0.0     100.0          0.0\n",
            "11              12     CUST012    75.0       0.0          0.0\n",
            "12              13     CUST013     0.0       0.0       1500.0\n",
            "13              14     CUST014     0.0     120.0          0.0\n",
            "14              15     CUST015     0.0       0.0       2000.0\n"
          ]
        }
      ]
    },
    {
      "cell_type": "code",
      "source": [
        "# Filter the dataset\n",
        "df_clothing1000 = df[(df['Product Category'] == 'Clothing') & (df['Total Amount'] > 1000)]\n",
        "# Display the filtered dataset\n",
        "print(df_clothing1000)"
      ],
      "metadata": {
        "id": "ky93gnCZecn6",
        "colab": {
          "base_uri": "https://localhost:8080/"
        },
        "outputId": "aba6b411-f821-4ddb-a6b8-9ba13ad71a26"
      },
      "execution_count": 23,
      "outputs": [
        {
          "output_type": "stream",
          "name": "stdout",
          "text": [
            "     Transaction ID       Date Customer ID  Gender  Age Product Category  \\\n",
            "15               16 2023-02-17     CUST016    Male   19         Clothing   \n",
            "57               58 2023-11-13     CUST058    Male   18         Clothing   \n",
            "77               78 2023-07-01     CUST078  Female   47         Clothing   \n",
            "106             107 2023-02-03     CUST107  Female   21         Clothing   \n",
            "111             112 2023-12-02     CUST112    Male   37         Clothing   \n",
            "114             115 2023-11-26     CUST115    Male   51         Clothing   \n",
            "123             124 2023-10-27     CUST124    Male   33         Clothing   \n",
            "164             165 2023-09-14     CUST165  Female   60         Clothing   \n",
            "165             166 2023-04-02     CUST166    Male   34         Clothing   \n",
            "201             202 2023-03-26     CUST202  Female   34         Clothing   \n",
            "211             212 2023-06-09     CUST212    Male   21         Clothing   \n",
            "214             215 2023-11-29     CUST215    Male   58         Clothing   \n",
            "252             253 2023-08-31     CUST253  Female   53         Clothing   \n",
            "268             269 2023-02-01     CUST269    Male   25         Clothing   \n",
            "279             280 2023-04-04     CUST280  Female   37         Clothing   \n",
            "295             296 2023-09-06     CUST296  Female   22         Clothing   \n",
            "339             340 2023-10-19     CUST340  Female   36         Clothing   \n",
            "341             342 2023-10-24     CUST342  Female   43         Clothing   \n",
            "367             368 2023-08-23     CUST368  Female   56         Clothing   \n",
            "404             405 2023-11-06     CUST405  Female   25         Clothing   \n",
            "419             420 2023-01-23     CUST420  Female   22         Clothing   \n",
            "420             421 2023-01-02     CUST421  Female   37         Clothing   \n",
            "451             452 2023-05-08     CUST452  Female   48         Clothing   \n",
            "458             459 2023-03-21     CUST459    Male   28         Clothing   \n",
            "473             474 2023-07-15     CUST474  Female   26         Clothing   \n",
            "475             476 2023-08-29     CUST476  Female   27         Clothing   \n",
            "481             482 2023-04-27     CUST482  Female   28         Clothing   \n",
            "483             484 2023-01-13     CUST484  Female   19         Clothing   \n",
            "486             487 2023-07-24     CUST487    Male   44         Clothing   \n",
            "546             547 2023-03-07     CUST547    Male   63         Clothing   \n",
            "552             553 2023-03-31     CUST553    Male   24         Clothing   \n",
            "558             559 2023-01-01     CUST559  Female   40         Clothing   \n",
            "560             561 2023-05-27     CUST561  Female   64         Clothing   \n",
            "571             572 2023-04-20     CUST572    Male   31         Clothing   \n",
            "579             580 2023-12-06     CUST580  Female   31         Clothing   \n",
            "594             595 2023-11-09     CUST595  Female   18         Clothing   \n",
            "625             626 2023-09-29     CUST626  Female   26         Clothing   \n",
            "646             647 2023-05-21     CUST647    Male   59         Clothing   \n",
            "662             663 2023-03-20     CUST663    Male   23         Clothing   \n",
            "663             664 2023-12-28     CUST664  Female   44         Clothing   \n",
            "672             673 2023-02-01     CUST673  Female   43         Clothing   \n",
            "715             716 2023-08-08     CUST716  Female   60         Clothing   \n",
            "725             726 2023-06-17     CUST726    Male   47         Clothing   \n",
            "728             729 2023-05-23     CUST729    Male   29         Clothing   \n",
            "730             731 2023-05-10     CUST731    Male   54         Clothing   \n",
            "734             735 2023-10-04     CUST735  Female   64         Clothing   \n",
            "788             789 2023-09-30     CUST789  Female   61         Clothing   \n",
            "799             800 2023-02-24     CUST800    Male   32         Clothing   \n",
            "927             928 2023-04-05     CUST928  Female   35         Clothing   \n",
            "941             942 2023-03-18     CUST942    Male   51         Clothing   \n",
            "942             943 2023-10-16     CUST943  Female   57         Clothing   \n",
            "955             956 2023-08-19     CUST956    Male   30         Clothing   \n",
            "\n",
            "     Quantity  Price per Unit  Total Amount  Total Items  \n",
            "15          3           500.0        1500.0            3  \n",
            "57          4           300.0        1200.0            4  \n",
            "77          3           500.0        1500.0            3  \n",
            "106         4           300.0        1200.0            4  \n",
            "111         3           500.0        1500.0            3  \n",
            "114         3           500.0        1500.0            3  \n",
            "123         4           500.0        2000.0            4  \n",
            "164         4           300.0        1200.0            4  \n",
            "165         4           500.0        2000.0            4  \n",
            "201         4           300.0        1200.0            4  \n",
            "211         3           500.0        1500.0            3  \n",
            "214         3           500.0        1500.0            3  \n",
            "252         4           500.0        2000.0            4  \n",
            "268         4           500.0        2000.0            4  \n",
            "279         3           500.0        1500.0            3  \n",
            "295         4           300.0        1200.0            4  \n",
            "339         4           300.0        1200.0            4  \n",
            "341         4           500.0        2000.0            4  \n",
            "367         4           300.0        1200.0            4  \n",
            "404         4           300.0        1200.0            4  \n",
            "419         4           500.0        2000.0            4  \n",
            "420         3           500.0        1500.0            3  \n",
            "451         3           500.0        1500.0            3  \n",
            "458         4           300.0        1200.0            4  \n",
            "473         3           500.0        1500.0            3  \n",
            "475         4           500.0        2000.0            4  \n",
            "481         4           300.0        1200.0            4  \n",
            "483         4           300.0        1200.0            4  \n",
            "486         4           500.0        2000.0            4  \n",
            "546         4           500.0        2000.0            4  \n",
            "552         4           300.0        1200.0            4  \n",
            "558         4           300.0        1200.0            4  \n",
            "560         4           500.0        2000.0            4  \n",
            "571         4           500.0        2000.0            4  \n",
            "579         3           500.0        1500.0            3  \n",
            "594         4           500.0        2000.0            4  \n",
            "625         4           500.0        2000.0            4  \n",
            "646         3           500.0        1500.0            3  \n",
            "662         4           300.0        1200.0            4  \n",
            "663         4           500.0        2000.0            4  \n",
            "672         3           500.0        1500.0            3  \n",
            "715         4           300.0        1200.0            4  \n",
            "725         4           300.0        1200.0            4  \n",
            "728         4           300.0        1200.0            4  \n",
            "730         4           500.0        2000.0            4  \n",
            "734         4           500.0        2000.0            4  \n",
            "788         4           500.0        2000.0            4  \n",
            "799         4           300.0        1200.0            4  \n",
            "927         4           300.0        1200.0            4  \n",
            "941         3           500.0        1500.0            3  \n",
            "942         4           300.0        1200.0            4  \n",
            "955         3           500.0        1500.0            3  \n"
          ]
        }
      ]
    },
    {
      "cell_type": "code",
      "source": [
        "# Save the dataset clothing to a new CSV file\n",
        "df_clothing1000.to_csv('retailsales_clothing1000.csv', index=False)\n"
      ],
      "metadata": {
        "id": "j4mBulCTiaN_"
      },
      "execution_count": 25,
      "outputs": []
    },
    {
      "cell_type": "code",
      "source": [],
      "metadata": {
        "id": "WM5a6nxpmXQI"
      },
      "execution_count": null,
      "outputs": []
    },
    {
      "cell_type": "code",
      "source": [],
      "metadata": {
        "id": "UH5iK9yZmXJw"
      },
      "execution_count": null,
      "outputs": []
    },
    {
      "cell_type": "code",
      "source": [],
      "metadata": {
        "id": "4VsfK-3VmXB1"
      },
      "execution_count": null,
      "outputs": []
    },
    {
      "cell_type": "code",
      "source": [],
      "metadata": {
        "id": "z4Yk3gxamW0m"
      },
      "execution_count": null,
      "outputs": []
    },
    {
      "cell_type": "code",
      "source": [
        "df.head()"
      ],
      "metadata": {
        "colab": {
          "base_uri": "https://localhost:8080/",
          "height": 310
        },
        "id": "M3hMJqYGoV-c",
        "outputId": "fdc4beb8-a70c-4efe-c478-6552ae503fb4"
      },
      "execution_count": 35,
      "outputs": [
        {
          "output_type": "execute_result",
          "data": {
            "text/plain": [
              "   Transaction ID       Date Customer ID  Gender  Age Product Category  \\\n",
              "0               1 2023-11-24     CUST001    Male   34           Beauty   \n",
              "1               2 2023-02-27     CUST002  Female   26         Clothing   \n",
              "2               3 2023-01-13     CUST003    Male   50      Electronics   \n",
              "3               4 2023-05-21     CUST004    Male   37         Clothing   \n",
              "4               5 2023-05-06     CUST005    Male   30           Beauty   \n",
              "\n",
              "   Quantity  Price per Unit  Total Amount  \n",
              "0         3            50.0         150.0  \n",
              "1         2           500.0        1000.0  \n",
              "2         1            30.0          30.0  \n",
              "3         1           500.0         500.0  \n",
              "4         2            50.0         100.0  "
            ],
            "text/html": [
              "\n",
              "  <div id=\"df-153d1e02-7e0a-47cb-a629-3cd58ff159ef\" class=\"colab-df-container\">\n",
              "    <div>\n",
              "<style scoped>\n",
              "    .dataframe tbody tr th:only-of-type {\n",
              "        vertical-align: middle;\n",
              "    }\n",
              "\n",
              "    .dataframe tbody tr th {\n",
              "        vertical-align: top;\n",
              "    }\n",
              "\n",
              "    .dataframe thead th {\n",
              "        text-align: right;\n",
              "    }\n",
              "</style>\n",
              "<table border=\"1\" class=\"dataframe\">\n",
              "  <thead>\n",
              "    <tr style=\"text-align: right;\">\n",
              "      <th></th>\n",
              "      <th>Transaction ID</th>\n",
              "      <th>Date</th>\n",
              "      <th>Customer ID</th>\n",
              "      <th>Gender</th>\n",
              "      <th>Age</th>\n",
              "      <th>Product Category</th>\n",
              "      <th>Quantity</th>\n",
              "      <th>Price per Unit</th>\n",
              "      <th>Total Amount</th>\n",
              "    </tr>\n",
              "  </thead>\n",
              "  <tbody>\n",
              "    <tr>\n",
              "      <th>0</th>\n",
              "      <td>1</td>\n",
              "      <td>2023-11-24</td>\n",
              "      <td>CUST001</td>\n",
              "      <td>Male</td>\n",
              "      <td>34</td>\n",
              "      <td>Beauty</td>\n",
              "      <td>3</td>\n",
              "      <td>50.0</td>\n",
              "      <td>150.0</td>\n",
              "    </tr>\n",
              "    <tr>\n",
              "      <th>1</th>\n",
              "      <td>2</td>\n",
              "      <td>2023-02-27</td>\n",
              "      <td>CUST002</td>\n",
              "      <td>Female</td>\n",
              "      <td>26</td>\n",
              "      <td>Clothing</td>\n",
              "      <td>2</td>\n",
              "      <td>500.0</td>\n",
              "      <td>1000.0</td>\n",
              "    </tr>\n",
              "    <tr>\n",
              "      <th>2</th>\n",
              "      <td>3</td>\n",
              "      <td>2023-01-13</td>\n",
              "      <td>CUST003</td>\n",
              "      <td>Male</td>\n",
              "      <td>50</td>\n",
              "      <td>Electronics</td>\n",
              "      <td>1</td>\n",
              "      <td>30.0</td>\n",
              "      <td>30.0</td>\n",
              "    </tr>\n",
              "    <tr>\n",
              "      <th>3</th>\n",
              "      <td>4</td>\n",
              "      <td>2023-05-21</td>\n",
              "      <td>CUST004</td>\n",
              "      <td>Male</td>\n",
              "      <td>37</td>\n",
              "      <td>Clothing</td>\n",
              "      <td>1</td>\n",
              "      <td>500.0</td>\n",
              "      <td>500.0</td>\n",
              "    </tr>\n",
              "    <tr>\n",
              "      <th>4</th>\n",
              "      <td>5</td>\n",
              "      <td>2023-05-06</td>\n",
              "      <td>CUST005</td>\n",
              "      <td>Male</td>\n",
              "      <td>30</td>\n",
              "      <td>Beauty</td>\n",
              "      <td>2</td>\n",
              "      <td>50.0</td>\n",
              "      <td>100.0</td>\n",
              "    </tr>\n",
              "  </tbody>\n",
              "</table>\n",
              "</div>\n",
              "    <div class=\"colab-df-buttons\">\n",
              "\n",
              "  <div class=\"colab-df-container\">\n",
              "    <button class=\"colab-df-convert\" onclick=\"convertToInteractive('df-153d1e02-7e0a-47cb-a629-3cd58ff159ef')\"\n",
              "            title=\"Convert this dataframe to an interactive table.\"\n",
              "            style=\"display:none;\">\n",
              "\n",
              "  <svg xmlns=\"http://www.w3.org/2000/svg\" height=\"24px\" viewBox=\"0 -960 960 960\">\n",
              "    <path d=\"M120-120v-720h720v720H120Zm60-500h600v-160H180v160Zm220 220h160v-160H400v160Zm0 220h160v-160H400v160ZM180-400h160v-160H180v160Zm440 0h160v-160H620v160ZM180-180h160v-160H180v160Zm440 0h160v-160H620v160Z\"/>\n",
              "  </svg>\n",
              "    </button>\n",
              "\n",
              "  <style>\n",
              "    .colab-df-container {\n",
              "      display:flex;\n",
              "      gap: 12px;\n",
              "    }\n",
              "\n",
              "    .colab-df-convert {\n",
              "      background-color: #E8F0FE;\n",
              "      border: none;\n",
              "      border-radius: 50%;\n",
              "      cursor: pointer;\n",
              "      display: none;\n",
              "      fill: #1967D2;\n",
              "      height: 32px;\n",
              "      padding: 0 0 0 0;\n",
              "      width: 32px;\n",
              "    }\n",
              "\n",
              "    .colab-df-convert:hover {\n",
              "      background-color: #E2EBFA;\n",
              "      box-shadow: 0px 1px 2px rgba(60, 64, 67, 0.3), 0px 1px 3px 1px rgba(60, 64, 67, 0.15);\n",
              "      fill: #174EA6;\n",
              "    }\n",
              "\n",
              "    .colab-df-buttons div {\n",
              "      margin-bottom: 4px;\n",
              "    }\n",
              "\n",
              "    [theme=dark] .colab-df-convert {\n",
              "      background-color: #3B4455;\n",
              "      fill: #D2E3FC;\n",
              "    }\n",
              "\n",
              "    [theme=dark] .colab-df-convert:hover {\n",
              "      background-color: #434B5C;\n",
              "      box-shadow: 0px 1px 3px 1px rgba(0, 0, 0, 0.15);\n",
              "      filter: drop-shadow(0px 1px 2px rgba(0, 0, 0, 0.3));\n",
              "      fill: #FFFFFF;\n",
              "    }\n",
              "  </style>\n",
              "\n",
              "    <script>\n",
              "      const buttonEl =\n",
              "        document.querySelector('#df-153d1e02-7e0a-47cb-a629-3cd58ff159ef button.colab-df-convert');\n",
              "      buttonEl.style.display =\n",
              "        google.colab.kernel.accessAllowed ? 'block' : 'none';\n",
              "\n",
              "      async function convertToInteractive(key) {\n",
              "        const element = document.querySelector('#df-153d1e02-7e0a-47cb-a629-3cd58ff159ef');\n",
              "        const dataTable =\n",
              "          await google.colab.kernel.invokeFunction('convertToInteractive',\n",
              "                                                    [key], {});\n",
              "        if (!dataTable) return;\n",
              "\n",
              "        const docLinkHtml = 'Like what you see? Visit the ' +\n",
              "          '<a target=\"_blank\" href=https://colab.research.google.com/notebooks/data_table.ipynb>data table notebook</a>'\n",
              "          + ' to learn more about interactive tables.';\n",
              "        element.innerHTML = '';\n",
              "        dataTable['output_type'] = 'display_data';\n",
              "        await google.colab.output.renderOutput(dataTable, element);\n",
              "        const docLink = document.createElement('div');\n",
              "        docLink.innerHTML = docLinkHtml;\n",
              "        element.appendChild(docLink);\n",
              "      }\n",
              "    </script>\n",
              "  </div>\n",
              "\n",
              "\n",
              "<div id=\"df-d6707871-0d55-4e3a-bb10-6af1d89ea761\">\n",
              "  <button class=\"colab-df-quickchart\" onclick=\"quickchart('df-d6707871-0d55-4e3a-bb10-6af1d89ea761')\"\n",
              "            title=\"Suggest charts\"\n",
              "            style=\"display:none;\">\n",
              "\n",
              "<svg xmlns=\"http://www.w3.org/2000/svg\" height=\"24px\"viewBox=\"0 0 24 24\"\n",
              "     width=\"24px\">\n",
              "    <g>\n",
              "        <path d=\"M19 3H5c-1.1 0-2 .9-2 2v14c0 1.1.9 2 2 2h14c1.1 0 2-.9 2-2V5c0-1.1-.9-2-2-2zM9 17H7v-7h2v7zm4 0h-2V7h2v10zm4 0h-2v-4h2v4z\"/>\n",
              "    </g>\n",
              "</svg>\n",
              "  </button>\n",
              "\n",
              "<style>\n",
              "  .colab-df-quickchart {\n",
              "      --bg-color: #E8F0FE;\n",
              "      --fill-color: #1967D2;\n",
              "      --hover-bg-color: #E2EBFA;\n",
              "      --hover-fill-color: #174EA6;\n",
              "      --disabled-fill-color: #AAA;\n",
              "      --disabled-bg-color: #DDD;\n",
              "  }\n",
              "\n",
              "  [theme=dark] .colab-df-quickchart {\n",
              "      --bg-color: #3B4455;\n",
              "      --fill-color: #D2E3FC;\n",
              "      --hover-bg-color: #434B5C;\n",
              "      --hover-fill-color: #FFFFFF;\n",
              "      --disabled-bg-color: #3B4455;\n",
              "      --disabled-fill-color: #666;\n",
              "  }\n",
              "\n",
              "  .colab-df-quickchart {\n",
              "    background-color: var(--bg-color);\n",
              "    border: none;\n",
              "    border-radius: 50%;\n",
              "    cursor: pointer;\n",
              "    display: none;\n",
              "    fill: var(--fill-color);\n",
              "    height: 32px;\n",
              "    padding: 0;\n",
              "    width: 32px;\n",
              "  }\n",
              "\n",
              "  .colab-df-quickchart:hover {\n",
              "    background-color: var(--hover-bg-color);\n",
              "    box-shadow: 0 1px 2px rgba(60, 64, 67, 0.3), 0 1px 3px 1px rgba(60, 64, 67, 0.15);\n",
              "    fill: var(--button-hover-fill-color);\n",
              "  }\n",
              "\n",
              "  .colab-df-quickchart-complete:disabled,\n",
              "  .colab-df-quickchart-complete:disabled:hover {\n",
              "    background-color: var(--disabled-bg-color);\n",
              "    fill: var(--disabled-fill-color);\n",
              "    box-shadow: none;\n",
              "  }\n",
              "\n",
              "  .colab-df-spinner {\n",
              "    border: 2px solid var(--fill-color);\n",
              "    border-color: transparent;\n",
              "    border-bottom-color: var(--fill-color);\n",
              "    animation:\n",
              "      spin 1s steps(1) infinite;\n",
              "  }\n",
              "\n",
              "  @keyframes spin {\n",
              "    0% {\n",
              "      border-color: transparent;\n",
              "      border-bottom-color: var(--fill-color);\n",
              "      border-left-color: var(--fill-color);\n",
              "    }\n",
              "    20% {\n",
              "      border-color: transparent;\n",
              "      border-left-color: var(--fill-color);\n",
              "      border-top-color: var(--fill-color);\n",
              "    }\n",
              "    30% {\n",
              "      border-color: transparent;\n",
              "      border-left-color: var(--fill-color);\n",
              "      border-top-color: var(--fill-color);\n",
              "      border-right-color: var(--fill-color);\n",
              "    }\n",
              "    40% {\n",
              "      border-color: transparent;\n",
              "      border-right-color: var(--fill-color);\n",
              "      border-top-color: var(--fill-color);\n",
              "    }\n",
              "    60% {\n",
              "      border-color: transparent;\n",
              "      border-right-color: var(--fill-color);\n",
              "    }\n",
              "    80% {\n",
              "      border-color: transparent;\n",
              "      border-right-color: var(--fill-color);\n",
              "      border-bottom-color: var(--fill-color);\n",
              "    }\n",
              "    90% {\n",
              "      border-color: transparent;\n",
              "      border-bottom-color: var(--fill-color);\n",
              "    }\n",
              "  }\n",
              "</style>\n",
              "\n",
              "  <script>\n",
              "    async function quickchart(key) {\n",
              "      const quickchartButtonEl =\n",
              "        document.querySelector('#' + key + ' button');\n",
              "      quickchartButtonEl.disabled = true;  // To prevent multiple clicks.\n",
              "      quickchartButtonEl.classList.add('colab-df-spinner');\n",
              "      try {\n",
              "        const charts = await google.colab.kernel.invokeFunction(\n",
              "            'suggestCharts', [key], {});\n",
              "      } catch (error) {\n",
              "        console.error('Error during call to suggestCharts:', error);\n",
              "      }\n",
              "      quickchartButtonEl.classList.remove('colab-df-spinner');\n",
              "      quickchartButtonEl.classList.add('colab-df-quickchart-complete');\n",
              "    }\n",
              "    (() => {\n",
              "      let quickchartButtonEl =\n",
              "        document.querySelector('#df-d6707871-0d55-4e3a-bb10-6af1d89ea761 button');\n",
              "      quickchartButtonEl.style.display =\n",
              "        google.colab.kernel.accessAllowed ? 'block' : 'none';\n",
              "    })();\n",
              "  </script>\n",
              "</div>\n",
              "\n",
              "    </div>\n",
              "  </div>\n"
            ],
            "application/vnd.google.colaboratory.intrinsic+json": {
              "type": "dataframe",
              "variable_name": "df",
              "summary": "{\n  \"name\": \"df\",\n  \"rows\": 1000,\n  \"fields\": [\n    {\n      \"column\": \"Transaction ID\",\n      \"properties\": {\n        \"dtype\": \"number\",\n        \"std\": 288,\n        \"min\": 1,\n        \"max\": 1000,\n        \"num_unique_values\": 1000,\n        \"samples\": [\n          522,\n          738,\n          741\n        ],\n        \"semantic_type\": \"\",\n        \"description\": \"\"\n      }\n    },\n    {\n      \"column\": \"Date\",\n      \"properties\": {\n        \"dtype\": \"date\",\n        \"min\": \"2023-01-01 00:00:00\",\n        \"max\": \"2024-01-01 00:00:00\",\n        \"num_unique_values\": 345,\n        \"samples\": [\n          \"2023-04-04 00:00:00\",\n          \"2023-04-13 00:00:00\",\n          \"2023-04-15 00:00:00\"\n        ],\n        \"semantic_type\": \"\",\n        \"description\": \"\"\n      }\n    },\n    {\n      \"column\": \"Customer ID\",\n      \"properties\": {\n        \"dtype\": \"string\",\n        \"num_unique_values\": 1000,\n        \"samples\": [\n          \"CUST522\",\n          \"CUST738\",\n          \"CUST741\"\n        ],\n        \"semantic_type\": \"\",\n        \"description\": \"\"\n      }\n    },\n    {\n      \"column\": \"Gender\",\n      \"properties\": {\n        \"dtype\": \"category\",\n        \"num_unique_values\": 2,\n        \"samples\": [\n          \"Female\",\n          \"Male\"\n        ],\n        \"semantic_type\": \"\",\n        \"description\": \"\"\n      }\n    },\n    {\n      \"column\": \"Age\",\n      \"properties\": {\n        \"dtype\": \"number\",\n        \"std\": 13,\n        \"min\": 18,\n        \"max\": 64,\n        \"num_unique_values\": 47,\n        \"samples\": [\n          48,\n          61\n        ],\n        \"semantic_type\": \"\",\n        \"description\": \"\"\n      }\n    },\n    {\n      \"column\": \"Product Category\",\n      \"properties\": {\n        \"dtype\": \"category\",\n        \"num_unique_values\": 3,\n        \"samples\": [\n          \"Beauty\",\n          \"Clothing\"\n        ],\n        \"semantic_type\": \"\",\n        \"description\": \"\"\n      }\n    },\n    {\n      \"column\": \"Quantity\",\n      \"properties\": {\n        \"dtype\": \"number\",\n        \"std\": 1,\n        \"min\": 1,\n        \"max\": 4,\n        \"num_unique_values\": 4,\n        \"samples\": [\n          2,\n          4\n        ],\n        \"semantic_type\": \"\",\n        \"description\": \"\"\n      }\n    },\n    {\n      \"column\": \"Price per Unit\",\n      \"properties\": {\n        \"dtype\": \"number\",\n        \"std\": 189.68135627129232,\n        \"min\": 25.0,\n        \"max\": 500.0,\n        \"num_unique_values\": 5,\n        \"samples\": [\n          500.0,\n          300.0\n        ],\n        \"semantic_type\": \"\",\n        \"description\": \"\"\n      }\n    },\n    {\n      \"column\": \"Total Amount\",\n      \"properties\": {\n        \"dtype\": \"number\",\n        \"std\": 559.997631555123,\n        \"min\": 25.0,\n        \"max\": 2000.0,\n        \"num_unique_values\": 18,\n        \"samples\": [\n          150.0,\n          1000.0\n        ],\n        \"semantic_type\": \"\",\n        \"description\": \"\"\n      }\n    }\n  ]\n}"
            }
          },
          "metadata": {},
          "execution_count": 35
        }
      ]
    },
    {
      "cell_type": "code",
      "source": [
        "# uploading the file\n",
        "from google.colab import files\n",
        "# we need to choose the from the local PC\n",
        "upload_file = files.upload()"
      ],
      "metadata": {
        "colab": {
          "base_uri": "https://localhost:8080/",
          "height": 74
        },
        "id": "Rybba4C2p9Nc",
        "outputId": "44a74856-002f-45c9-afe7-1221f347daed"
      },
      "execution_count": 11,
      "outputs": [
        {
          "output_type": "display_data",
          "data": {
            "text/plain": [
              "<IPython.core.display.HTML object>"
            ],
            "text/html": [
              "\n",
              "     <input type=\"file\" id=\"files-8fd7c582-db81-4d9d-be2d-48337a11f6a6\" name=\"files[]\" multiple disabled\n",
              "        style=\"border:none\" />\n",
              "     <output id=\"result-8fd7c582-db81-4d9d-be2d-48337a11f6a6\">\n",
              "      Upload widget is only available when the cell has been executed in the\n",
              "      current browser session. Please rerun this cell to enable.\n",
              "      </output>\n",
              "      <script>// Copyright 2017 Google LLC\n",
              "//\n",
              "// Licensed under the Apache License, Version 2.0 (the \"License\");\n",
              "// you may not use this file except in compliance with the License.\n",
              "// You may obtain a copy of the License at\n",
              "//\n",
              "//      http://www.apache.org/licenses/LICENSE-2.0\n",
              "//\n",
              "// Unless required by applicable law or agreed to in writing, software\n",
              "// distributed under the License is distributed on an \"AS IS\" BASIS,\n",
              "// WITHOUT WARRANTIES OR CONDITIONS OF ANY KIND, either express or implied.\n",
              "// See the License for the specific language governing permissions and\n",
              "// limitations under the License.\n",
              "\n",
              "/**\n",
              " * @fileoverview Helpers for google.colab Python module.\n",
              " */\n",
              "(function(scope) {\n",
              "function span(text, styleAttributes = {}) {\n",
              "  const element = document.createElement('span');\n",
              "  element.textContent = text;\n",
              "  for (const key of Object.keys(styleAttributes)) {\n",
              "    element.style[key] = styleAttributes[key];\n",
              "  }\n",
              "  return element;\n",
              "}\n",
              "\n",
              "// Max number of bytes which will be uploaded at a time.\n",
              "const MAX_PAYLOAD_SIZE = 100 * 1024;\n",
              "\n",
              "function _uploadFiles(inputId, outputId) {\n",
              "  const steps = uploadFilesStep(inputId, outputId);\n",
              "  const outputElement = document.getElementById(outputId);\n",
              "  // Cache steps on the outputElement to make it available for the next call\n",
              "  // to uploadFilesContinue from Python.\n",
              "  outputElement.steps = steps;\n",
              "\n",
              "  return _uploadFilesContinue(outputId);\n",
              "}\n",
              "\n",
              "// This is roughly an async generator (not supported in the browser yet),\n",
              "// where there are multiple asynchronous steps and the Python side is going\n",
              "// to poll for completion of each step.\n",
              "// This uses a Promise to block the python side on completion of each step,\n",
              "// then passes the result of the previous step as the input to the next step.\n",
              "function _uploadFilesContinue(outputId) {\n",
              "  const outputElement = document.getElementById(outputId);\n",
              "  const steps = outputElement.steps;\n",
              "\n",
              "  const next = steps.next(outputElement.lastPromiseValue);\n",
              "  return Promise.resolve(next.value.promise).then((value) => {\n",
              "    // Cache the last promise value to make it available to the next\n",
              "    // step of the generator.\n",
              "    outputElement.lastPromiseValue = value;\n",
              "    return next.value.response;\n",
              "  });\n",
              "}\n",
              "\n",
              "/**\n",
              " * Generator function which is called between each async step of the upload\n",
              " * process.\n",
              " * @param {string} inputId Element ID of the input file picker element.\n",
              " * @param {string} outputId Element ID of the output display.\n",
              " * @return {!Iterable<!Object>} Iterable of next steps.\n",
              " */\n",
              "function* uploadFilesStep(inputId, outputId) {\n",
              "  const inputElement = document.getElementById(inputId);\n",
              "  inputElement.disabled = false;\n",
              "\n",
              "  const outputElement = document.getElementById(outputId);\n",
              "  outputElement.innerHTML = '';\n",
              "\n",
              "  const pickedPromise = new Promise((resolve) => {\n",
              "    inputElement.addEventListener('change', (e) => {\n",
              "      resolve(e.target.files);\n",
              "    });\n",
              "  });\n",
              "\n",
              "  const cancel = document.createElement('button');\n",
              "  inputElement.parentElement.appendChild(cancel);\n",
              "  cancel.textContent = 'Cancel upload';\n",
              "  const cancelPromise = new Promise((resolve) => {\n",
              "    cancel.onclick = () => {\n",
              "      resolve(null);\n",
              "    };\n",
              "  });\n",
              "\n",
              "  // Wait for the user to pick the files.\n",
              "  const files = yield {\n",
              "    promise: Promise.race([pickedPromise, cancelPromise]),\n",
              "    response: {\n",
              "      action: 'starting',\n",
              "    }\n",
              "  };\n",
              "\n",
              "  cancel.remove();\n",
              "\n",
              "  // Disable the input element since further picks are not allowed.\n",
              "  inputElement.disabled = true;\n",
              "\n",
              "  if (!files) {\n",
              "    return {\n",
              "      response: {\n",
              "        action: 'complete',\n",
              "      }\n",
              "    };\n",
              "  }\n",
              "\n",
              "  for (const file of files) {\n",
              "    const li = document.createElement('li');\n",
              "    li.append(span(file.name, {fontWeight: 'bold'}));\n",
              "    li.append(span(\n",
              "        `(${file.type || 'n/a'}) - ${file.size} bytes, ` +\n",
              "        `last modified: ${\n",
              "            file.lastModifiedDate ? file.lastModifiedDate.toLocaleDateString() :\n",
              "                                    'n/a'} - `));\n",
              "    const percent = span('0% done');\n",
              "    li.appendChild(percent);\n",
              "\n",
              "    outputElement.appendChild(li);\n",
              "\n",
              "    const fileDataPromise = new Promise((resolve) => {\n",
              "      const reader = new FileReader();\n",
              "      reader.onload = (e) => {\n",
              "        resolve(e.target.result);\n",
              "      };\n",
              "      reader.readAsArrayBuffer(file);\n",
              "    });\n",
              "    // Wait for the data to be ready.\n",
              "    let fileData = yield {\n",
              "      promise: fileDataPromise,\n",
              "      response: {\n",
              "        action: 'continue',\n",
              "      }\n",
              "    };\n",
              "\n",
              "    // Use a chunked sending to avoid message size limits. See b/62115660.\n",
              "    let position = 0;\n",
              "    do {\n",
              "      const length = Math.min(fileData.byteLength - position, MAX_PAYLOAD_SIZE);\n",
              "      const chunk = new Uint8Array(fileData, position, length);\n",
              "      position += length;\n",
              "\n",
              "      const base64 = btoa(String.fromCharCode.apply(null, chunk));\n",
              "      yield {\n",
              "        response: {\n",
              "          action: 'append',\n",
              "          file: file.name,\n",
              "          data: base64,\n",
              "        },\n",
              "      };\n",
              "\n",
              "      let percentDone = fileData.byteLength === 0 ?\n",
              "          100 :\n",
              "          Math.round((position / fileData.byteLength) * 100);\n",
              "      percent.textContent = `${percentDone}% done`;\n",
              "\n",
              "    } while (position < fileData.byteLength);\n",
              "  }\n",
              "\n",
              "  // All done.\n",
              "  yield {\n",
              "    response: {\n",
              "      action: 'complete',\n",
              "    }\n",
              "  };\n",
              "}\n",
              "\n",
              "scope.google = scope.google || {};\n",
              "scope.google.colab = scope.google.colab || {};\n",
              "scope.google.colab._files = {\n",
              "  _uploadFiles,\n",
              "  _uploadFilesContinue,\n",
              "};\n",
              "})(self);\n",
              "</script> "
            ]
          },
          "metadata": {}
        },
        {
          "output_type": "stream",
          "name": "stdout",
          "text": [
            "Saving retail_full_local.csv to retail_full_local.csv\n"
          ]
        }
      ]
    },
    {
      "cell_type": "code",
      "source": [
        "import os\n",
        "# Gets the current working path\n",
        "current_path = os.getcwd()\n",
        "print(\"The current working path:\", current_path)"
      ],
      "metadata": {
        "colab": {
          "base_uri": "https://localhost:8080/"
        },
        "id": "9pQf5PbmquDf",
        "outputId": "0fbf5cf3-0738-4f1d-906a-9312f8f4e8d9"
      },
      "execution_count": 15,
      "outputs": [
        {
          "output_type": "stream",
          "name": "stdout",
          "text": [
            "The current working path: /content/gdrive/MyDrive/ColabNotebooks/612\n"
          ]
        }
      ]
    },
    {
      "cell_type": "code",
      "source": [
        "import os # import the os module\n",
        "# User enters the specified file name\n",
        "file_name = input(\"Enter the file name: \")\n",
        "\n",
        "# Checks if the file exists\n",
        "if os.path.isfile(file_name):\n",
        "    print(f\"{file_name} exists.\")\n",
        "else:\n",
        "    print(f\"{file_name} does not exist.\")"
      ],
      "metadata": {
        "colab": {
          "base_uri": "https://localhost:8080/"
        },
        "id": "FIIE07sNqyhM",
        "outputId": "32a90cbd-4853-4716-d44d-e659e5726e6c"
      },
      "execution_count": 23,
      "outputs": [
        {
          "output_type": "stream",
          "name": "stdout",
          "text": [
            "Enter the file name: retail_full.csv\n",
            "retail_full.csv exists.\n"
          ]
        }
      ]
    },
    {
      "cell_type": "code",
      "source": [
        "from datetime import datetime\n",
        "\n",
        "# Get the current working directory\n",
        "current_path = os.getcwd()\n",
        "print(\"Current working directory is:\", current_path)\n",
        "\n",
        "# Specify the root directory for the destination\n",
        "target_dir_root = '/content/gdrive/MyDrive/ColabNotebooks/612'\n",
        "\n",
        "# Get the current time and generate a unique suffix\n",
        "unique_suffix = datetime.now().strftime(\"%Y%m%d%H%M%S\")\n",
        "# Construct the backup directory name and path\n",
        "bucket_name = f'GDDA612_BACKUP_{unique_suffix}'\n",
        "backup_path = os.path.join(target_dir_root, bucket_name)\n",
        "\n",
        "# Output the backup path for verification\n",
        "print(\"Backup directory path is:\", backup_path)"
      ],
      "metadata": {
        "colab": {
          "base_uri": "https://localhost:8080/"
        },
        "id": "w3jbh-KSrkf-",
        "outputId": "8c0cbe35-b995-4bc9-b85f-9a35f3d1d483"
      },
      "execution_count": 24,
      "outputs": [
        {
          "output_type": "stream",
          "name": "stdout",
          "text": [
            "Current working directory is: /content/gdrive/MyDrive/ColabNotebooks/612\n",
            "Backup directory path is: /content/gdrive/MyDrive/ColabNotebooks/612/GDDA612_BACKUP_20240817051445\n"
          ]
        }
      ]
    },
    {
      "cell_type": "code",
      "source": [
        "# Check whether the target directory exists. If it does not exist, create it\n",
        "if not os.path.exists(backup_path):\n",
        "    os.makedirs(backup_path)\n",
        "    print(f\"Directory '{backup_path}' created successfully.\")\n",
        "else:\n",
        "    print(f\"Directory '{backup_path}' already exists.\")"
      ],
      "metadata": {
        "colab": {
          "base_uri": "https://localhost:8080/"
        },
        "id": "dfbwfBR1r9dZ",
        "outputId": "1ea0be70-df68-4de8-83bf-1245766d3f52"
      },
      "execution_count": 25,
      "outputs": [
        {
          "output_type": "stream",
          "name": "stdout",
          "text": [
            "Directory '/content/gdrive/MyDrive/ColabNotebooks/612/GDDA612_BACKUP_20240817051445' created successfully.\n"
          ]
        }
      ]
    },
    {
      "cell_type": "code",
      "source": [
        "# Build the source and destination file paths\n",
        "source_file = os.path.join(current_path, file_name)\n",
        "target_file = os.path.join(backup_path, file_name)\n",
        "print(f\"Source file: {source_file}\")\n",
        "print(f\"Target file: {target_file}\")"
      ],
      "metadata": {
        "colab": {
          "base_uri": "https://localhost:8080/"
        },
        "id": "lTUO49YasA2s",
        "outputId": "ab5498f6-27e6-4e76-f83a-5707eb7135e1"
      },
      "execution_count": 26,
      "outputs": [
        {
          "output_type": "stream",
          "name": "stdout",
          "text": [
            "Source file: /content/gdrive/MyDrive/ColabNotebooks/612/retail_full.csv\n",
            "Target file: /content/gdrive/MyDrive/ColabNotebooks/612/GDDA612_BACKUP_20240817051445/retail_full.csv\n"
          ]
        }
      ]
    },
    {
      "cell_type": "code",
      "source": [
        "import shutil\n",
        "if os.path.isfile(source_file):\n",
        "    shutil.copy(source_file, target_file)\n",
        "    print(f\"The file has been copied to: {target_file}\")\n",
        "else:\n",
        "    print(f\"file does not exist: {source_file}\")"
      ],
      "metadata": {
        "colab": {
          "base_uri": "https://localhost:8080/"
        },
        "id": "4e_tTn_ksVqQ",
        "outputId": "86fb0a80-317c-4fe8-ad54-06eec045e127"
      },
      "execution_count": 27,
      "outputs": [
        {
          "output_type": "stream",
          "name": "stdout",
          "text": [
            "The file has been copied to: /content/gdrive/MyDrive/ColabNotebooks/612/GDDA612_BACKUP_20240817051445/retail_full.csv\n"
          ]
        }
      ]
    },
    {
      "cell_type": "markdown",
      "source": [],
      "metadata": {
        "id": "0AjKKXFlvzhC"
      }
    },
    {
      "cell_type": "code",
      "source": [
        "# Backup all file\n",
        "all_items = os.listdir(current_path)\n",
        "files = [item for item in all_items if os.path.isfile(os.path.join(current_path, item))]"
      ],
      "metadata": {
        "id": "ZEXZrGf0sY_0"
      },
      "execution_count": 30,
      "outputs": []
    },
    {
      "cell_type": "code",
      "source": [
        "# Copy each file to the backup directory\n",
        "for file_name in files:\n",
        "    source_file = os.path.join(current_path, file_name)\n",
        "    target_file = os.path.join(backup_path, file_name)\n",
        "    shutil.copy(source_file, target_file)\n",
        "    print(f\"Copied {file_name} to {backup_path}\")\n",
        "\n",
        "print(\"All files have been copied.\")"
      ],
      "metadata": {
        "colab": {
          "base_uri": "https://localhost:8080/"
        },
        "id": "ctgwLjWTsa8s",
        "outputId": "620ac0f1-2c65-4be4-9ae0-99630503f245"
      },
      "execution_count": 29,
      "outputs": [
        {
          "output_type": "stream",
          "name": "stdout",
          "text": [
            "Copied vgsales.csv to /content/gdrive/MyDrive/ColabNotebooks/612/GDDA612_BACKUP_20240817051445\n",
            "Copied Google drive and colab (1).ipynb to /content/gdrive/MyDrive/ColabNotebooks/612/GDDA612_BACKUP_20240817051445\n",
            "Copied Untitled0 (1).ipynb to /content/gdrive/MyDrive/ColabNotebooks/612/GDDA612_BACKUP_20240817051445\n",
            "Copied 612_Testing.ipynb to /content/gdrive/MyDrive/ColabNotebooks/612/GDDA612_BACKUP_20240817051445\n",
            "Copied tidy_vgsales.csv to /content/gdrive/MyDrive/ColabNotebooks/612/GDDA612_BACKUP_20240817051445\n",
            "Copied clean_vgsales.csv to /content/gdrive/MyDrive/ColabNotebooks/612/GDDA612_BACKUP_20240817051445\n",
            "Copied vgsales_clean.csv to /content/gdrive/MyDrive/ColabNotebooks/612/GDDA612_BACKUP_20240817051445\n",
            "Copied retail_sales_dataset.csv to /content/gdrive/MyDrive/ColabNotebooks/612/GDDA612_BACKUP_20240817051445\n",
            "Copied retail_sales_clean.csv to /content/gdrive/MyDrive/ColabNotebooks/612/GDDA612_BACKUP_20240817051445\n",
            "Copied retailsales_clothing1000.csv to /content/gdrive/MyDrive/ColabNotebooks/612/GDDA612_BACKUP_20240817051445\n",
            "Copied GDD612_A2Project2_850001206.docx to /content/gdrive/MyDrive/ColabNotebooks/612/GDDA612_BACKUP_20240817051445\n",
            "Copied MongoDB connection.ipynb to /content/gdrive/MyDrive/ColabNotebooks/612/GDDA612_BACKUP_20240817051445\n",
            "Copied retail_full.csv to /content/gdrive/MyDrive/ColabNotebooks/612/GDDA612_BACKUP_20240817051445\n",
            "Copied GDD612_A2Project2_850001206_1.docx to /content/gdrive/MyDrive/ColabNotebooks/612/GDDA612_BACKUP_20240817051445\n",
            "Copied retail_full_local.csv to /content/gdrive/MyDrive/ColabNotebooks/612/GDDA612_BACKUP_20240817051445\n",
            "All files have been copied.\n"
          ]
        }
      ]
    },
    {
      "cell_type": "code",
      "source": [
        "# automatically run code though the code\n",
        "# Define the target time\n",
        "\n",
        "import time # Import the time module\n",
        "import os\n",
        "import shutil\n",
        "from datetime import datetime\n",
        "\n",
        "source_dir = '/content/gdrive/MyDrive/ColabNotebooks/612'\n",
        "target_dir_root = '/content/gdrive/MyDrive/ColabNotebooks/612'\n",
        "\n",
        "\n",
        "target_hour = 6\n",
        "target_minute = 00\n",
        "target_second = 30\n",
        "\n",
        "def backup_files(source_dir, target_dir_root): # Define the backup_files function\n",
        "    # Create a new target directory with a timestamp\n",
        "    timestamp = datetime.now().strftime(\"%Y%m%d-%H%M%S\")\n",
        "    target_dir = os.path.join(target_dir_root, timestamp)\n",
        "    os.makedirs(target_dir, exist_ok=True)\n",
        "\n",
        "    # Copy each file to the backup directory\n",
        "    for file_name in os.listdir(source_dir):\n",
        "        source_file = os.path.join(source_dir, file_name)\n",
        "        target_file = os.path.join(target_dir, file_name)\n",
        "        if os.path.isfile(source_file):\n",
        "            shutil.copy(source_file, target_file)\n",
        "            print(f\"Copied {file_name} to {target_dir}\")\n",
        "\n",
        "    print(\"All files have been copied.\")\n",
        "\n",
        "while True:\n",
        "    # Get the current time\n",
        "    now = datetime.now()\n",
        "    current_hour = now.hour\n",
        "    current_minute = now.minute\n",
        "    current_second = now.second\n",
        "\n",
        "    # Check if the current time matches the target time\n",
        "    if current_hour == target_hour and current_minute == target_minute and current_second == target_second:\n",
        "        backup_files(source_dir, target_dir_root) # Call the function\n",
        "\n",
        "        # Sleep for 60 seconds to avoid running the backup multiple times within the same minute\n",
        "        time.sleep(60)  # 60,\n",
        "    else:\n",
        "        # Sleep for 30 seconds before checking the time again\n",
        "        time.sleep(30)"
      ],
      "metadata": {
        "colab": {
          "base_uri": "https://localhost:8080/",
          "height": 473
        },
        "id": "YVSo3_f9yPNj",
        "outputId": "9a698810-36a8-44a6-c04f-5140f40b2317"
      },
      "execution_count": 40,
      "outputs": [
        {
          "output_type": "stream",
          "name": "stdout",
          "text": [
            "Copied vgsales.csv to /content/gdrive/MyDrive/ColabNotebooks/612/20240817-060030\n",
            "Copied Google drive and colab (1).ipynb to /content/gdrive/MyDrive/ColabNotebooks/612/20240817-060030\n",
            "Copied Untitled0 (1).ipynb to /content/gdrive/MyDrive/ColabNotebooks/612/20240817-060030\n",
            "Copied 612_Testing.ipynb to /content/gdrive/MyDrive/ColabNotebooks/612/20240817-060030\n",
            "Copied tidy_vgsales.csv to /content/gdrive/MyDrive/ColabNotebooks/612/20240817-060030\n",
            "Copied clean_vgsales.csv to /content/gdrive/MyDrive/ColabNotebooks/612/20240817-060030\n",
            "Copied vgsales_clean.csv to /content/gdrive/MyDrive/ColabNotebooks/612/20240817-060030\n",
            "Copied retail_sales_dataset.csv to /content/gdrive/MyDrive/ColabNotebooks/612/20240817-060030\n",
            "Copied retail_sales_clean.csv to /content/gdrive/MyDrive/ColabNotebooks/612/20240817-060030\n",
            "Copied retailsales_clothing1000.csv to /content/gdrive/MyDrive/ColabNotebooks/612/20240817-060030\n",
            "Copied GDD612_A2Project2_850001206.docx to /content/gdrive/MyDrive/ColabNotebooks/612/20240817-060030\n",
            "Copied MongoDB connection.ipynb to /content/gdrive/MyDrive/ColabNotebooks/612/20240817-060030\n",
            "Copied retail_full.csv to /content/gdrive/MyDrive/ColabNotebooks/612/20240817-060030\n",
            "Copied GDD612_A2Project2_850001206_1.docx to /content/gdrive/MyDrive/ColabNotebooks/612/20240817-060030\n",
            "Copied retail_full_local.csv to /content/gdrive/MyDrive/ColabNotebooks/612/20240817-060030\n",
            "All files have been copied.\n"
          ]
        },
        {
          "output_type": "error",
          "ename": "KeyboardInterrupt",
          "evalue": "",
          "traceback": [
            "\u001b[0;31m---------------------------------------------------------------------------\u001b[0m",
            "\u001b[0;31mKeyboardInterrupt\u001b[0m                         Traceback (most recent call last)",
            "\u001b[0;32m<ipython-input-40-f414917f249e>\u001b[0m in \u001b[0;36m<cell line: 33>\u001b[0;34m()\u001b[0m\n\u001b[1;32m     46\u001b[0m     \u001b[0;32melse\u001b[0m\u001b[0;34m:\u001b[0m\u001b[0;34m\u001b[0m\u001b[0;34m\u001b[0m\u001b[0m\n\u001b[1;32m     47\u001b[0m         \u001b[0;31m# Sleep for 30 seconds before checking the time again\u001b[0m\u001b[0;34m\u001b[0m\u001b[0;34m\u001b[0m\u001b[0m\n\u001b[0;32m---> 48\u001b[0;31m         \u001b[0mtime\u001b[0m\u001b[0;34m.\u001b[0m\u001b[0msleep\u001b[0m\u001b[0;34m(\u001b[0m\u001b[0;36m30\u001b[0m\u001b[0;34m)\u001b[0m\u001b[0;34m\u001b[0m\u001b[0;34m\u001b[0m\u001b[0m\n\u001b[0m",
            "\u001b[0;31mKeyboardInterrupt\u001b[0m: "
          ]
        }
      ]
    }
  ]
}